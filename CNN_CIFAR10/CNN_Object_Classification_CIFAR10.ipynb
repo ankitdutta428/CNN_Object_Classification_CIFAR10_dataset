{
  "nbformat": 4,
  "nbformat_minor": 0,
  "metadata": {
    "colab": {
      "provenance": []
    },
    "kernelspec": {
      "name": "python3",
      "display_name": "Python 3"
    },
    "language_info": {
      "name": "python"
    }
  },
  "cells": [
    {
      "cell_type": "code",
      "execution_count": null,
      "metadata": {
        "id": "1kg3yXOwcyUV"
      },
      "outputs": [],
      "source": [
        "import tensorflow as tf\n",
        "from tensorflow.keras import datasets, models, layers\n",
        "import matplotlib.pyplot as plt\n",
        "import numpy as np"
      ]
    },
    {
      "cell_type": "code",
      "source": [
        "(X_train, y_train), (X_test, y_test) = datasets.cifar10.load_data()\n",
        "X_train.shape"
      ],
      "metadata": {
        "colab": {
          "base_uri": "https://localhost:8080/"
        },
        "id": "sjPLviwMdNNg",
        "outputId": "1c4f8de3-ce4d-473b-9813-9f0e78d5cf1c"
      },
      "execution_count": null,
      "outputs": [
        {
          "output_type": "execute_result",
          "data": {
            "text/plain": [
              "(50000, 32, 32, 3)"
            ]
          },
          "metadata": {},
          "execution_count": 4
        }
      ]
    },
    {
      "cell_type": "code",
      "source": [
        "classes=[\"airplane\",\"automobile\",\"bird\",\"cat\",\"deer\",\"dog\",\"frog\",\"horse\",\"ship\",\"truck\"]"
      ],
      "metadata": {
        "id": "WmevbZk9udQc"
      },
      "execution_count": 44,
      "outputs": []
    },
    {
      "cell_type": "code",
      "source": [
        "print(X_train[0])"
      ],
      "metadata": {
        "colab": {
          "base_uri": "https://localhost:8080/"
        },
        "id": "JHvMUa3fdeCB",
        "outputId": "d5b65374-ab57-4952-e637-436f80460eb8"
      },
      "execution_count": 26,
      "outputs": [
        {
          "output_type": "stream",
          "name": "stdout",
          "text": [
            "[59 62 63]\n"
          ]
        }
      ]
    },
    {
      "cell_type": "code",
      "source": [
        "y_train[0:5]"
      ],
      "metadata": {
        "colab": {
          "base_uri": "https://localhost:8080/"
        },
        "id": "_tqkQ4_juQb0",
        "outputId": "24d1b283-27c0-425f-c7d6-b37c850eb54d"
      },
      "execution_count": 43,
      "outputs": [
        {
          "output_type": "execute_result",
          "data": {
            "text/plain": [
              "array([[6],\n",
              "       [9],\n",
              "       [9],\n",
              "       [4],\n",
              "       [1]], dtype=uint8)"
            ]
          },
          "metadata": {},
          "execution_count": 43
        }
      ]
    },
    {
      "cell_type": "code",
      "source": [
        "y_train = y_train.reshape(-1,)\n",
        "y_train[:5]"
      ],
      "metadata": {
        "colab": {
          "base_uri": "https://localhost:8080/"
        },
        "id": "gmwv1ok-uq4C",
        "outputId": "d7c9f8bc-a027-4fe9-d9b1-2719704d8eb2"
      },
      "execution_count": 45,
      "outputs": [
        {
          "output_type": "execute_result",
          "data": {
            "text/plain": [
              "array([6, 9, 9, 4, 1], dtype=uint8)"
            ]
          },
          "metadata": {},
          "execution_count": 45
        }
      ]
    },
    {
      "cell_type": "code",
      "source": [
        "def image_train_plotter(X,y,index):\n",
        "  plt.figure(figsize=(10,2))\n",
        "  plt.imshow(X[index])\n",
        "  plt.xlabel(classes[y[index]])"
      ],
      "metadata": {
        "id": "JsbjNv_wdkH7"
      },
      "execution_count": 46,
      "outputs": []
    },
    {
      "cell_type": "code",
      "source": [
        "image_train_plotter(X_train, y_train, 155)"
      ],
      "metadata": {
        "colab": {
          "base_uri": "https://localhost:8080/",
          "height": 237
        },
        "id": "mgwihgngkupG",
        "outputId": "53c17a45-2a91-453d-cde0-6dfc2759eb84"
      },
      "execution_count": 48,
      "outputs": [
        {
          "output_type": "display_data",
          "data": {
            "text/plain": [
              "<Figure size 1000x200 with 1 Axes>"
            ],
            "image/png": "[encoded data removed]"
          },
          "metadata": {}
        }
      ]
    },
    {
      "cell_type": "code",
      "source": [
        "#Normalizing the data\n",
        "X_train = X_train/255\n",
        "X_test = X_test/255"
      ],
      "metadata": {
        "id": "HapNGVN2ly5H"
      },
      "execution_count": 49,
      "outputs": []
    },
    {
      "cell_type": "code",
      "source": [
        "X_train[0]"
      ],
      "metadata": {
        "colab": {
          "base_uri": "https://localhost:8080/"
        },
        "id": "Uq8_sgY5vQ2L",
        "outputId": "0a7e30ae-07b9-40eb-f431-51f22afa2544"
      },
      "execution_count": 50,
      "outputs": [
        {
          "output_type": "execute_result",
          "data": {
            "text/plain": [
              "array([[[0.23137255, 0.24313725, 0.24705882],\n",
              "        [0.16862745, 0.18039216, 0.17647059],\n",
              "        [0.19607843, 0.18823529, 0.16862745],\n",
              "        ...,\n",
              "        [0.61960784, 0.51764706, 0.42352941],\n",
              "        [0.59607843, 0.49019608, 0.4       ],\n",
              "        [0.58039216, 0.48627451, 0.40392157]],\n",
              "\n",
              "       [[0.0627451 , 0.07843137, 0.07843137],\n",
              "        [0.        , 0.        , 0.        ],\n",
              "        [0.07058824, 0.03137255, 0.        ],\n",
              "        ...,\n",
              "        [0.48235294, 0.34509804, 0.21568627],\n",
              "        [0.46666667, 0.3254902 , 0.19607843],\n",
              "        [0.47843137, 0.34117647, 0.22352941]],\n",
              "\n",
              "       [[0.09803922, 0.09411765, 0.08235294],\n",
              "        [0.0627451 , 0.02745098, 0.        ],\n",
              "        [0.19215686, 0.10588235, 0.03137255],\n",
              "        ...,\n",
              "        [0.4627451 , 0.32941176, 0.19607843],\n",
              "        [0.47058824, 0.32941176, 0.19607843],\n",
              "        [0.42745098, 0.28627451, 0.16470588]],\n",
              "\n",
              "       ...,\n",
              "\n",
              "       [[0.81568627, 0.66666667, 0.37647059],\n",
              "        [0.78823529, 0.6       , 0.13333333],\n",
              "        [0.77647059, 0.63137255, 0.10196078],\n",
              "        ...,\n",
              "        [0.62745098, 0.52156863, 0.2745098 ],\n",
              "        [0.21960784, 0.12156863, 0.02745098],\n",
              "        [0.20784314, 0.13333333, 0.07843137]],\n",
              "\n",
              "       [[0.70588235, 0.54509804, 0.37647059],\n",
              "        [0.67843137, 0.48235294, 0.16470588],\n",
              "        [0.72941176, 0.56470588, 0.11764706],\n",
              "        ...,\n",
              "        [0.72156863, 0.58039216, 0.36862745],\n",
              "        [0.38039216, 0.24313725, 0.13333333],\n",
              "        [0.3254902 , 0.20784314, 0.13333333]],\n",
              "\n",
              "       [[0.69411765, 0.56470588, 0.45490196],\n",
              "        [0.65882353, 0.50588235, 0.36862745],\n",
              "        [0.70196078, 0.55686275, 0.34117647],\n",
              "        ...,\n",
              "        [0.84705882, 0.72156863, 0.54901961],\n",
              "        [0.59215686, 0.4627451 , 0.32941176],\n",
              "        [0.48235294, 0.36078431, 0.28235294]]])"
            ]
          },
          "metadata": {},
          "execution_count": 50
        }
      ]
    },
    {
      "cell_type": "code",
      "source": [
        "ann = models.Sequential([\n",
        "    layers.Flatten(input_shape=(32,32,3)),\n",
        "    layers.Dense(3000, activation=\"relu\"),\n",
        "    layers.Dense(1000, activation=\"relu\"),\n",
        "    layers.Dense(10, activation=\"sigmoid\")\n",
        "])\n",
        "\n",
        "ann.compile(optimizer=\"SGD\", loss=\"sparse_categorical_crossentropy\", metrics=['accuracy'])\n",
        "ann.fit(X_train, y_train, epochs=1)"
      ],
      "metadata": {
        "colab": {
          "base_uri": "https://localhost:8080/"
        },
        "id": "YhSb0r1EvSAF",
        "outputId": "25be43ec-bdf7-4149-979b-fcadbeacd242"
      },
      "execution_count": 52,
      "outputs": [
        {
          "output_type": "stream",
          "name": "stdout",
          "text": [
            "1563/1563 [==============================] - 150s 95ms/step - loss: 1.8101 - accuracy: 0.3555\n"
          ]
        },
        {
          "output_type": "execute_result",
          "data": {
            "text/plain": [
              "<keras.src.callbacks.History at 0x7ad1837a37f0>"
            ]
          },
          "metadata": {},
          "execution_count": 52
        }
      ]
    },
    {
      "cell_type": "code",
      "source": [
        "ann.evaluate(X_test, y_test)\n",
        "\n",
        "'''The results obtained from artificial neural network is pretty bad, as this means\n",
        "that we need to use convulutional neural networks for our work'''"
      ],
      "metadata": {
        "colab": {
          "base_uri": "https://localhost:8080/"
        },
        "id": "RvDU27fvwOwH",
        "outputId": "9ddd7ee6-5e50-400b-c071-2ec49830cf10"
      },
      "execution_count": 53,
      "outputs": [
        {
          "output_type": "stream",
          "name": "stdout",
          "text": [
            "313/313 [==============================] - 14s 45ms/step - loss: 1.6916 - accuracy: 0.4034\n"
          ]
        },
        {
          "output_type": "execute_result",
          "data": {
            "text/plain": [
              "[1.6915949583053589, 0.4034000039100647]"
            ]
          },
          "metadata": {},
          "execution_count": 53
        }
      ]
    },
    {
      "cell_type": "code",
      "source": [
        "# In this we now use the convulutional neural networks\n",
        "cnn = models.Sequential([\n",
        "    #cnn\n",
        "    layers.Conv2D(filters=20, activation='relu', kernel_size=(3,3), input_shape=(32,32,3)),\n",
        "    layers.MaxPooling2D((2,2)),\n",
        "\n",
        "    layers.Conv2D(filters=48, activation='relu', kernel_size=(3,3)),\n",
        "    layers.MaxPooling2D((2,2)),\n",
        "    #dense, lessen this as we are already pooling the main thing\n",
        "    layers.Flatten(),\n",
        "    layers.Dense(64, activation=\"relu\"),\n",
        "    layers.Dense(10, activation=\"softmax\")\n",
        "])"
      ],
      "metadata": {
        "id": "i8zwQaW0yWyn"
      },
      "execution_count": 54,
      "outputs": []
    },
    {
      "cell_type": "code",
      "source": [
        "cnn.compile(optimizer=\"adam\", loss=\"sparse_categorical_crossentropy\", metrics=['accuracy'])"
      ],
      "metadata": {
        "id": "e6apluLe0MS8"
      },
      "execution_count": 55,
      "outputs": []
    },
    {
      "cell_type": "code",
      "source": [
        "cnn.fit(X_train, y_train, epochs=10)"
      ],
      "metadata": {
        "colab": {
          "base_uri": "https://localhost:8080/"
        },
        "id": "p9PzlKoY0ZKh",
        "outputId": "e1da8a15-6c82-494d-9239-57ab2b5211e8"
      },
      "execution_count": 57,
      "outputs": [
        {
          "output_type": "stream",
          "name": "stdout",
          "text": [
            "Epoch 1/10\n",
            "1563/1563 [==============================] - 49s 32ms/step - loss: 0.9610 - accuracy: 0.6645\n",
            "Epoch 2/10\n",
            "1563/1563 [==============================] - 47s 30ms/step - loss: 0.9019 - accuracy: 0.6857\n",
            "Epoch 3/10\n",
            "1563/1563 [==============================] - 50s 32ms/step - loss: 0.8498 - accuracy: 0.7035\n",
            "Epoch 4/10\n",
            "1563/1563 [==============================] - 48s 31ms/step - loss: 0.8080 - accuracy: 0.7181\n",
            "Epoch 5/10\n",
            "1563/1563 [==============================] - 50s 32ms/step - loss: 0.7726 - accuracy: 0.7322\n",
            "Epoch 6/10\n",
            "1563/1563 [==============================] - 50s 32ms/step - loss: 0.7378 - accuracy: 0.7414\n",
            "Epoch 7/10\n",
            "1563/1563 [==============================] - 49s 31ms/step - loss: 0.7071 - accuracy: 0.7534\n",
            "Epoch 8/10\n",
            "1563/1563 [==============================] - 47s 30ms/step - loss: 0.6783 - accuracy: 0.7630\n",
            "Epoch 9/10\n",
            "1563/1563 [==============================] - 50s 32ms/step - loss: 0.6494 - accuracy: 0.7725\n",
            "Epoch 10/10\n",
            "1563/1563 [==============================] - 53s 34ms/step - loss: 0.6251 - accuracy: 0.7809\n"
          ]
        },
        {
          "output_type": "execute_result",
          "data": {
            "text/plain": [
              "<keras.src.callbacks.History at 0x7ad17fc24a00>"
            ]
          },
          "metadata": {},
          "execution_count": 57
        }
      ]
    },
    {
      "cell_type": "code",
      "source": [
        "cnn.evaluate(X_test, y_test)"
      ],
      "metadata": {
        "colab": {
          "base_uri": "https://localhost:8080/"
        },
        "id": "uGPOROt90cxr",
        "outputId": "500e19df-5321-4218-dc35-5ac42af25e53"
      },
      "execution_count": 58,
      "outputs": [
        {
          "output_type": "stream",
          "name": "stdout",
          "text": [
            "313/313 [==============================] - 6s 17ms/step - loss: 0.9646 - accuracy: 0.6947\n"
          ]
        },
        {
          "output_type": "execute_result",
          "data": {
            "text/plain": [
              "[0.9646332859992981, 0.6947000026702881]"
            ]
          },
          "metadata": {},
          "execution_count": 58
        }
      ]
    },
    {
      "cell_type": "code",
      "source": [
        "y_test=y_test.reshape(-1,)\n",
        "y_test[:10]"
      ],
      "metadata": {
        "colab": {
          "base_uri": "https://localhost:8080/"
        },
        "id": "jIJgnyU13vKF",
        "outputId": "6c30b975-5d5c-4aaa-ee81-8c2317046475"
      },
      "execution_count": 67,
      "outputs": [
        {
          "output_type": "execute_result",
          "data": {
            "text/plain": [
              "array([3, 8, 8, 0, 6, 6, 1, 6, 3, 1], dtype=uint8)"
            ]
          },
          "metadata": {},
          "execution_count": 67
        }
      ]
    },
    {
      "cell_type": "code",
      "source": [
        "image_train_plotter(X_test, y_test, 5)"
      ],
      "metadata": {
        "colab": {
          "base_uri": "https://localhost:8080/",
          "height": 237
        },
        "id": "yRWDFa754i47",
        "outputId": "37b334cf-503c-4889-ed02-e860e3f5bd1f"
      },
      "execution_count": 60,
      "outputs": [
        {
          "output_type": "display_data",
          "data": {
            "text/plain": [
              "<Figure size 1000x200 with 1 Axes>"
            ],
            "image/png": "[encoded data removed]"
          },
          "metadata": {}
        }
      ]
    },
    {
      "cell_type": "code",
      "source": [
        "y_pred = cnn.predict(X_test)\n",
        "y_pred[:5]"
      ],
      "metadata": {
        "colab": {
          "base_uri": "https://localhost:8080/"
        },
        "id": "ucjhV06T43I_",
        "outputId": "29503bed-f879-4e1d-a1e2-078c547beb3e"
      },
      "execution_count": 63,
      "outputs": [
        {
          "output_type": "stream",
          "name": "stdout",
          "text": [
            "313/313 [==============================] - 3s 9ms/step\n"
          ]
        },
        {
          "output_type": "execute_result",
          "data": {
            "text/plain": [
              "array([[2.8205130e-04, 8.0119844e-06, 2.4151888e-03, 8.9598936e-01,\n",
              "        2.8742096e-04, 7.1649566e-02, 2.7945841e-02, 1.5557349e-06,\n",
              "        1.4097154e-03, 1.1128982e-05],\n",
              "       [3.7008401e-03, 4.4963021e-02, 6.1891342e-08, 2.4646628e-08,\n",
              "        6.3418709e-10, 7.5205613e-11, 4.1763940e-12, 1.9234257e-11,\n",
              "        9.4850850e-01, 2.8275875e-03],\n",
              "       [7.2971553e-02, 7.2935808e-01, 1.2813921e-02, 5.3970362e-03,\n",
              "        6.4119726e-04, 5.2949373e-04, 1.9425670e-06, 4.8780948e-04,\n",
              "        1.4427231e-01, 3.3526607e-02],\n",
              "       [9.4065672e-01, 6.8626797e-04, 9.0864031e-03, 8.8245244e-05,\n",
              "        2.0326652e-04, 1.9427675e-07, 2.2715217e-06, 2.4669787e-06,\n",
              "        4.8857577e-02, 4.1644269e-04],\n",
              "       [2.8858764e-07, 5.3532773e-08, 6.8312311e-03, 7.1920530e-04,\n",
              "        7.9159003e-01, 3.4467885e-04, 2.0051096e-01, 2.3899388e-06,\n",
              "        1.1184786e-06, 9.8835651e-09]], dtype=float32)"
            ]
          },
          "metadata": {},
          "execution_count": 63
        }
      ]
    },
    {
      "cell_type": "code",
      "source": [
        "y_classes = [np.argmax(element) for element in y_pred]\n",
        "y_classes[:10]"
      ],
      "metadata": {
        "colab": {
          "base_uri": "https://localhost:8080/"
        },
        "id": "bvAnRTr369ex",
        "outputId": "430613a4-085c-43f0-8d51-768fa7030c03"
      },
      "execution_count": 69,
      "outputs": [
        {
          "output_type": "execute_result",
          "data": {
            "text/plain": [
              "[3, 8, 1, 0, 4, 6, 1, 6, 3, 1]"
            ]
          },
          "metadata": {},
          "execution_count": 69
        }
      ]
    },
    {
      "cell_type": "code",
      "source": [],
      "metadata": {
        "id": "UaNX5Wwk6_S0"
      },
      "execution_count": null,
      "outputs": []
    }
  ]
}